{
 "cells": [
  {
   "cell_type": "markdown",
   "metadata": {},
   "source": [
    "# Modeling"
   ]
  },
  {
   "cell_type": "code",
   "execution_count": 5,
   "metadata": {
    "collapsed": false
   },
   "outputs": [],
   "source": [
    "import pickle\n",
    "import seaborn as sns\n",
    "import numpy as np\n",
    "import pandas as pd\n",
    "import os\n",
    "\n",
    "%matplotlib inline\n",
    "import matplotlib\n",
    "import matplotlib.pyplot as plt\n",
    "\n",
    "from sklearn.cross_validation import train_test_split\n",
    "from scipy.stats import randint as sp_randint\n",
    "from sklearn.grid_search import GridSearchCV, RandomizedSearchCV\n",
    "from sklearn.pipeline import make_pipeline\n",
    "from sklearn.metrics import f1_score, roc_auc_score, accuracy_score\n",
    "from sklearn.metrics import classification_report, confusion_matrix\n",
    "from sklearn.ensemble import RandomForestClassifier, AdaBoostClassifier, ExtraTreesClassifier\n",
    "from sklearn.decomposition import PCA\n",
    "from sklearn.svm import SVC\n",
    "\n",
    "from imblearn.metrics import classification_report_imbalanced\n",
    "\n",
    "from collections import defaultdict\n",
    "\n",
    "import warnings\n",
    "warnings.filterwarnings('ignore')\n",
    "np.random.seed(42)"
   ]
  },
  {
   "cell_type": "code",
   "execution_count": 2,
   "metadata": {
    "collapsed": true
   },
   "outputs": [],
   "source": [
    "df_training = pickle.load(open('my_df_training_onehot.pickle', 'rb'))\n",
    "y = pickle.load(open('my_y.pickle', 'rb'))\n",
    "X_train, X_test, y_train, y_test = train_test_split(df_training, y)"
   ]
  },
  {
   "cell_type": "code",
   "execution_count": 3,
   "metadata": {
    "collapsed": true
   },
   "outputs": [],
   "source": [
    "def Summary_Results(estimator,X_test,y_test):\n",
    "    ypred = estimator.predict(X_test)\n",
    "    print('The accuracy is: %.2f3 \\n' % accuracy_score(ypred,y_test))\n",
    "    print('Confusion_matrix:')\n",
    "    cm = confusion_matrix(y_test, ypred)\n",
    "    print('\\t\\t pridicted values')\n",
    "    print('\\t\\t 0 \\t 1')\n",
    "    print('actual 0: ','\\t',cm[0,0],'\\t',cm[0,1])\n",
    "    print('values 1: ','\\t',cm[1,0],'\\t',cm[1,1])\n",
    "    print('-------------------------------------------------------')\n",
    "    print('Classification_report: \\n')\n",
    "    print(classification_report(y_test,ypred,target_names=[\"class 0\",\"class 1\"]))"
   ]
  },
  {
   "cell_type": "code",
   "execution_count": 7,
   "metadata": {
    "collapsed": false
   },
   "outputs": [
    {
     "name": "stdout",
     "output_type": "stream",
     "text": [
      "Extra Tree_clf\n",
      "                   pre       rec       spe        f1       geo       iba       sup\n",
      "\n",
      "          0       0.88      0.99      0.05      0.93      0.54      0.31     16015\n",
      "          1       0.33      0.05      0.99      0.09      0.54      0.28      2231\n",
      "\n",
      "avg / total       0.81      0.87      0.16      0.83      0.54      0.31     18246\n",
      "\n",
      "RandomForest_clf\n",
      "                   pre       rec       spe        f1       geo       iba       sup\n",
      "\n",
      "          0       0.88      0.99      0.03      0.93      0.56      0.34     16015\n",
      "          1       0.36      0.03      0.99      0.06      0.56      0.30      2231\n",
      "\n",
      "avg / total       0.82      0.87      0.15      0.83      0.56      0.33     18246\n",
      "\n",
      "AdaBoost_clf\n",
      "                   pre       rec       spe        f1       geo       iba       sup\n",
      "\n",
      "          0       0.88      1.00      0.01      0.94      0.74      0.56     16015\n",
      "          1       0.62      0.01      1.00      0.03      0.74      0.53      2231\n",
      "\n",
      "avg / total       0.85      0.88      0.13      0.82      0.74      0.56     18246\n",
      "\n"
     ]
    }
   ],
   "source": [
    "estimators = {'RandomForest':RandomForestClassifier(),'AdaBoost': AdaBoostClassifier(), 'Extra Tree': ExtraTreesClassifier()}\n",
    "clfs = defaultdict(str)\n",
    "\n",
    "for name,clf in estimators.items():\n",
    "    clf.fit(X_train,y_train)\n",
    "    y_pred = clf.predict(X_test)\n",
    "    print(name + '_clf')\n",
    "    print(classification_report_imbalanced(y_test, y_pred))\n",
    "    clfs[name+'_clf'] = clf"
   ]
  },
  {
   "cell_type": "code",
   "execution_count": 14,
   "metadata": {
    "collapsed": false
   },
   "outputs": [
    {
     "name": "stdout",
     "output_type": "stream",
     "text": [
      "Extra Tree_clf\n",
      "                   pre       rec       spe        f1       geo       iba       sup\n",
      "\n",
      "          0       0.88      0.97      0.09      0.93      0.52      0.28     16015\n",
      "          1       0.30      0.09      0.97      0.14      0.52      0.25      2231\n",
      "\n",
      "avg / total       0.81      0.86      0.20      0.83      0.52      0.28     18246\n",
      "\n",
      "RandomForest_clf\n",
      "                   pre       rec       spe        f1       geo       iba       sup\n",
      "\n",
      "          0       0.89      0.97      0.11      0.93      0.54      0.31     16015\n",
      "          1       0.33      0.11      0.97      0.16      0.54      0.27      2231\n",
      "\n",
      "avg / total       0.82      0.86      0.21      0.83      0.54      0.30     18246\n",
      "\n",
      "AdaBoost_clf\n",
      "                   pre       rec       spe        f1       geo       iba       sup\n",
      "\n",
      "          0       0.89      0.91      0.21      0.90      0.47      0.23     16015\n",
      "          1       0.24      0.21      0.91      0.23      0.47      0.20      2231\n",
      "\n",
      "avg / total       0.81      0.82      0.30      0.82      0.47      0.23     18246\n",
      "\n"
     ]
    }
   ],
   "source": [
    "# oversample\n",
    "from imblearn.over_sampling import SMOTE\n",
    "sme = SMOTE()\n",
    "X_resampled, y_resampled = sme.fit_sample(X_train, y_train)\n",
    "for name,clf in estimators.items():\n",
    "    clf.fit(X_resampled,y_resampled)\n",
    "    y_pred = clf.predict(X_test)\n",
    "    print(name + '_clf')\n",
    "    print(classification_report_imbalanced(y_test, y_pred))\n",
    "    clfs[name+'_SMOTEENN_clf'] = clf"
   ]
  },
  {
   "cell_type": "code",
   "execution_count": 8,
   "metadata": {
    "collapsed": false
   },
   "outputs": [
    {
     "name": "stdout",
     "output_type": "stream",
     "text": [
      "Extra Tree_clf\n",
      "                   pre       rec       spe        f1       geo       iba       sup\n",
      "\n",
      "          0       0.91      0.80      0.43      0.85      0.46      0.22     16015\n",
      "          1       0.23      0.43      0.80      0.30      0.46      0.20      2231\n",
      "\n",
      "avg / total       0.83      0.75      0.48      0.78      0.46      0.22     18246\n",
      "\n",
      "RandomForest_clf\n",
      "                   pre       rec       spe        f1       geo       iba       sup\n",
      "\n",
      "          0       0.91      0.79      0.44      0.85      0.46      0.22     16015\n",
      "          1       0.23      0.44      0.79      0.30      0.46      0.19      2231\n",
      "\n",
      "avg / total       0.83      0.75      0.48      0.78      0.46      0.22     18246\n",
      "\n",
      "AdaBoost_clf\n",
      "                   pre       rec       spe        f1       geo       iba       sup\n",
      "\n",
      "          0       0.92      0.62      0.61      0.74      0.41      0.18     16015\n",
      "          1       0.18      0.61      0.62      0.28      0.41      0.16      2231\n",
      "\n",
      "avg / total       0.83      0.62      0.61      0.69      0.41      0.18     18246\n",
      "\n"
     ]
    }
   ],
   "source": [
    "# combine\n",
    "from imblearn.combine import SMOTEENN\n",
    "sme = SMOTEENN()\n",
    "X_resampled, y_resampled = sme.fit_sample(X_train, y_train)\n",
    "for name,clf in estimators.items():\n",
    "    clf.fit(X_resampled,y_resampled)\n",
    "    y_pred = clf.predict(X_test)\n",
    "    print(name + '_clf')\n",
    "    print(classification_report_imbalanced(y_test, y_pred))\n",
    "    clfs[name+'_SMOTEENN_clf'] = clf"
   ]
  },
  {
   "cell_type": "code",
   "execution_count": 10,
   "metadata": {
    "collapsed": false
   },
   "outputs": [
    {
     "name": "stdout",
     "output_type": "stream",
     "text": [
      "Extra Tree_clf\n",
      "                   pre       rec       spe        f1       geo       iba       sup\n",
      "\n",
      "          0       0.88      0.97      0.08      0.93      0.51      0.27     16015\n",
      "          1       0.29      0.08      0.97      0.13      0.51      0.24      2231\n",
      "\n",
      "avg / total       0.81      0.86      0.19      0.83      0.51      0.27     18246\n",
      "\n",
      "RandomForest_clf\n",
      "                   pre       rec       spe        f1       geo       iba       sup\n",
      "\n",
      "          0       0.88      0.97      0.08      0.93      0.50      0.26     16015\n",
      "          1       0.28      0.08      0.97      0.12      0.50      0.23      2231\n",
      "\n",
      "avg / total       0.81      0.86      0.19      0.83      0.50      0.26     18246\n",
      "\n",
      "AdaBoost_clf\n",
      "                   pre       rec       spe        f1       geo       iba       sup\n",
      "\n",
      "          0       0.89      0.91      0.23      0.90      0.48      0.24     16015\n",
      "          1       0.25      0.23      0.91      0.24      0.48      0.21      2231\n",
      "\n",
      "avg / total       0.82      0.82      0.31      0.82      0.48      0.24     18246\n",
      "\n"
     ]
    }
   ],
   "source": [
    "# combine\n",
    "from imblearn.combine import SMOTETomek\n",
    "sme = SMOTETomek()\n",
    "X_resampled, y_resampled = sme.fit_sample(X_train, y_train)\n",
    "for name,clf in estimators.items():\n",
    "    clf.fit(X_resampled,y_resampled)\n",
    "    y_pred = clf.predict(X_test)\n",
    "    print(name + '_clf')\n",
    "    print(classification_report_imbalanced(y_test, y_pred))\n",
    "    clfs[name+'_SMOTETomek_clf'] = clf"
   ]
  },
  {
   "cell_type": "code",
   "execution_count": 11,
   "metadata": {
    "collapsed": false
   },
   "outputs": [
    {
     "name": "stdout",
     "output_type": "stream",
     "text": [
      "RandomForest_SMOTEENN_clf:\n",
      "The accuracy is: 0.863 \n",
      "\n",
      "Confusion_matrix:\n",
      "\t\t pridicted values\n",
      "\t\t 0 \t 1\n",
      "actual 0:  \t 15560 \t 455\n",
      "values 1:  \t 2056 \t 175\n",
      "-------------------------------------------------------\n",
      "Classification_report: \n",
      "\n",
      "             precision    recall  f1-score   support\n",
      "\n",
      "    class 0       0.88      0.97      0.93     16015\n",
      "    class 1       0.28      0.08      0.12      2231\n",
      "\n",
      "avg / total       0.81      0.86      0.83     18246\n",
      "\n",
      "================================================================\n",
      "Extra Tree_clf:\n",
      "The accuracy is: 0.863 \n",
      "\n",
      "Confusion_matrix:\n",
      "\t\t pridicted values\n",
      "\t\t 0 \t 1\n",
      "actual 0:  \t 15555 \t 460\n",
      "values 1:  \t 2043 \t 188\n",
      "-------------------------------------------------------\n",
      "Classification_report: \n",
      "\n",
      "             precision    recall  f1-score   support\n",
      "\n",
      "    class 0       0.88      0.97      0.93     16015\n",
      "    class 1       0.29      0.08      0.13      2231\n",
      "\n",
      "avg / total       0.81      0.86      0.83     18246\n",
      "\n",
      "================================================================\n",
      "AdaBoost_SMOTETomek_clf:\n",
      "The accuracy is: 0.823 \n",
      "\n",
      "Confusion_matrix:\n",
      "\t\t pridicted values\n",
      "\t\t 0 \t 1\n",
      "actual 0:  \t 14533 \t 1482\n",
      "values 1:  \t 1726 \t 505\n",
      "-------------------------------------------------------\n",
      "Classification_report: \n",
      "\n",
      "             precision    recall  f1-score   support\n",
      "\n",
      "    class 0       0.89      0.91      0.90     16015\n",
      "    class 1       0.25      0.23      0.24      2231\n",
      "\n",
      "avg / total       0.82      0.82      0.82     18246\n",
      "\n",
      "================================================================\n",
      "AdaBoost_SMOTEENN_clf:\n",
      "The accuracy is: 0.823 \n",
      "\n",
      "Confusion_matrix:\n",
      "\t\t pridicted values\n",
      "\t\t 0 \t 1\n",
      "actual 0:  \t 14533 \t 1482\n",
      "values 1:  \t 1726 \t 505\n",
      "-------------------------------------------------------\n",
      "Classification_report: \n",
      "\n",
      "             precision    recall  f1-score   support\n",
      "\n",
      "    class 0       0.89      0.91      0.90     16015\n",
      "    class 1       0.25      0.23      0.24      2231\n",
      "\n",
      "avg / total       0.82      0.82      0.82     18246\n",
      "\n",
      "================================================================\n",
      "AdaBoost_clf:\n",
      "The accuracy is: 0.823 \n",
      "\n",
      "Confusion_matrix:\n",
      "\t\t pridicted values\n",
      "\t\t 0 \t 1\n",
      "actual 0:  \t 14533 \t 1482\n",
      "values 1:  \t 1726 \t 505\n",
      "-------------------------------------------------------\n",
      "Classification_report: \n",
      "\n",
      "             precision    recall  f1-score   support\n",
      "\n",
      "    class 0       0.89      0.91      0.90     16015\n",
      "    class 1       0.25      0.23      0.24      2231\n",
      "\n",
      "avg / total       0.82      0.82      0.82     18246\n",
      "\n",
      "================================================================\n",
      "RandomForest_SMOTETomek_clf:\n",
      "The accuracy is: 0.863 \n",
      "\n",
      "Confusion_matrix:\n",
      "\t\t pridicted values\n",
      "\t\t 0 \t 1\n",
      "actual 0:  \t 15560 \t 455\n",
      "values 1:  \t 2056 \t 175\n",
      "-------------------------------------------------------\n",
      "Classification_report: \n",
      "\n",
      "             precision    recall  f1-score   support\n",
      "\n",
      "    class 0       0.88      0.97      0.93     16015\n",
      "    class 1       0.28      0.08      0.12      2231\n",
      "\n",
      "avg / total       0.81      0.86      0.83     18246\n",
      "\n",
      "================================================================\n",
      "Extra Tree_SMOTEENN_clf:\n",
      "The accuracy is: 0.863 \n",
      "\n",
      "Confusion_matrix:\n",
      "\t\t pridicted values\n",
      "\t\t 0 \t 1\n",
      "actual 0:  \t 15555 \t 460\n",
      "values 1:  \t 2043 \t 188\n",
      "-------------------------------------------------------\n",
      "Classification_report: \n",
      "\n",
      "             precision    recall  f1-score   support\n",
      "\n",
      "    class 0       0.88      0.97      0.93     16015\n",
      "    class 1       0.29      0.08      0.13      2231\n",
      "\n",
      "avg / total       0.81      0.86      0.83     18246\n",
      "\n",
      "================================================================\n",
      "RandomForest_clf:\n",
      "The accuracy is: 0.863 \n",
      "\n",
      "Confusion_matrix:\n",
      "\t\t pridicted values\n",
      "\t\t 0 \t 1\n",
      "actual 0:  \t 15560 \t 455\n",
      "values 1:  \t 2056 \t 175\n",
      "-------------------------------------------------------\n",
      "Classification_report: \n",
      "\n",
      "             precision    recall  f1-score   support\n",
      "\n",
      "    class 0       0.88      0.97      0.93     16015\n",
      "    class 1       0.28      0.08      0.12      2231\n",
      "\n",
      "avg / total       0.81      0.86      0.83     18246\n",
      "\n",
      "================================================================\n",
      "Extra Tree_SMOTETomek_clf:\n",
      "The accuracy is: 0.863 \n",
      "\n",
      "Confusion_matrix:\n",
      "\t\t pridicted values\n",
      "\t\t 0 \t 1\n",
      "actual 0:  \t 15555 \t 460\n",
      "values 1:  \t 2043 \t 188\n",
      "-------------------------------------------------------\n",
      "Classification_report: \n",
      "\n",
      "             precision    recall  f1-score   support\n",
      "\n",
      "    class 0       0.88      0.97      0.93     16015\n",
      "    class 1       0.29      0.08      0.13      2231\n",
      "\n",
      "avg / total       0.81      0.86      0.83     18246\n",
      "\n",
      "================================================================\n"
     ]
    }
   ],
   "source": [
    "for name,clf in clfs.items():\n",
    "    print(name+':')\n",
    "    Summary_Results(clfs[name],X_test.as_matrix(),y_test.as_matrix())\n",
    "    print('================================================================')"
   ]
  },
  {
   "cell_type": "markdown",
   "metadata": {},
   "source": [
    "## SVM"
   ]
  },
  {
   "cell_type": "code",
   "execution_count": 3,
   "metadata": {
    "collapsed": true
   },
   "outputs": [],
   "source": [
    "from imblearn.combine import SMOTEENN\n",
    "sme = SMOTEENN()\n",
    "X_train, y_train = sme.fit_sample(X_train, y_train)"
   ]
  },
  {
   "cell_type": "code",
   "execution_count": null,
   "metadata": {
    "collapsed": false
   },
   "outputs": [
    {
     "data": {
      "text/plain": [
       "[<matplotlib.lines.Line2D at 0x7f644e4910b8>]"
      ]
     },
     "execution_count": 7,
     "metadata": {},
     "output_type": "execute_result"
    },
    {
     "data": {
      "image/png": "[encoded data removed]",
      "text/plain": [
       "<matplotlib.figure.Figure at 0x7f64599bdda0>"
      ]
     },
     "metadata": {},
     "output_type": "display_data"
    }
   ],
   "source": [
    "# find the n_compoents\n",
    "covar_matrix = PCA(n_components = 100)\n",
    "covar_matrix.fit(X_train)\n",
    "variance = covar_matrix.explained_variance_ratio_ #calculate variance ratios\n",
    "\n",
    "var=np.cumsum(np.round(covar_matrix.explained_variance_ratio_, decimals=3)*100)\n",
    "\n",
    "plt.ylabel('% Variance Explained')\n",
    "plt.xlabel('# of Features')\n",
    "plt.title('PCA Analysis')\n",
    "plt.ylim(30,100.5)\n",
    "plt.style.context('seaborn-whitegrid')\n",
    "\n",
    "plt.plot(var)"
   ]
  },
  {
   "cell_type": "code",
   "execution_count": 6,
   "metadata": {
    "collapsed": false
   },
   "outputs": [
    {
     "name": "stdout",
     "output_type": "stream",
     "text": [
      "             precision    recall  f1-score   support\n",
      "\n",
      "          0       0.91      0.75      0.82     16015\n",
      "          1       0.20      0.46      0.28      2231\n",
      "\n",
      "avg / total       0.82      0.71      0.75     18246\n",
      "\n",
      "[[11982  4033]\n",
      " [ 1203  1028]]\n"
     ]
    }
   ],
   "source": [
    "n_components = 51\n",
    "\n",
    "pca = PCA(n_components=n_components, svd_solver='randomized',\n",
    "          whiten=True).fit(X_train)\n",
    "\n",
    "X_train_pca = pca.transform(X_train)\n",
    "X_test_pca = pca.transform(X_test)\n",
    "\n",
    "param_grid = {'C': [1e3],\n",
    "              'gamma': [0.01] }\n",
    "clf = GridSearchCV(SVC(kernel='rbf', class_weight='balanced'), param_grid)\n",
    "clf = clf.fit(X_train_pca, y_train)\n",
    "\n",
    "y_pred = clf.predict(X_test_pca)\n",
    "print(classification_report(y_test, y_pred))\n",
    "print(confusion_matrix(y_test, y_pred))"
   ]
  },
  {
   "cell_type": "code",
   "execution_count": null,
   "metadata": {
    "collapsed": true
   },
   "outputs": [],
   "source": []
  }
 ],
 "metadata": {
  "celltoolbar": "Hide code",
  "kernelspec": {
   "display_name": "Python 3",
   "language": "python",
   "name": "python3"
  },
  "language_info": {
   "codemirror_mode": {
    "name": "ipython",
    "version": 3
   },
   "file_extension": ".py",
   "mimetype": "text/x-python",
   "name": "python",
   "nbconvert_exporter": "python",
   "pygments_lexer": "ipython3",
   "version": "3.5.4"
  }
 },
 "nbformat": 4,
 "nbformat_minor": 1
}
