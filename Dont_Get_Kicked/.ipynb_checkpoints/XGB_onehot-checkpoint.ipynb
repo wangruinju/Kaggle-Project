{
 "cells": [
  {
   "cell_type": "code",
   "execution_count": 30,
   "metadata": {},
   "outputs": [],
   "source": [
    "import os\n",
    "import numpy as np\n",
    "import pandas as pd\n",
    "from sklearn.model_selection import train_test_split\n",
    "from sklearn.model_selection import KFold\n",
    "import xgboost as xgb\n",
    "\n",
    "cwd=os.getcwd()+'/'\n",
    "\n",
    "def gini(actual, pred, cmpcol = 0, sortcol = 1):\n",
    "    assert( len(actual) == len(pred) )\n",
    "    all = np.asarray(np.c_[ actual, pred, np.arange(len(actual)) ], dtype=np.float)\n",
    "    all = all[ np.lexsort((all[:,2], -1*all[:,1])) ]\n",
    "    totalLosses = all[:,0].sum()\n",
    "    giniSum = all[:,0].cumsum().sum() / totalLosses\n",
    "    \n",
    "    giniSum -= (len(actual) + 1) / 2.\n",
    "    return giniSum / len(actual)\n",
    "\n",
    "def gini_normalized(a, p):\n",
    "    return gini(a, p) / gini(a, a)\n",
    "\n",
    "def gini_xgb(preds, dtrain):\n",
    "    labels = dtrain.get_label()\n",
    "    gini_score = gini_normalized(labels, preds)\n",
    "    return [('gini', gini_score)]"
   ]
  },
  {
   "cell_type": "code",
   "execution_count": 31,
   "metadata": {
    "collapsed": true
   },
   "outputs": [],
   "source": [
    "df_train = pd.read_csv('./training.csv')\n",
    "df_test = pd.read_csv('./test.csv')\n",
    "\n",
    "target_train = df_train['IsBadBuy'].values\n",
    "id_test = df_test['RefId'].values\n",
    "\n",
    "df_train = df_train.drop(['IsBadBuy','RefId'],axis=1)\n",
    "df_test= df_test.drop(['RefId'], axis = 1)\n",
    "combine= pd.concat([df_train, df_test],axis=0)"
   ]
  },
  {
   "cell_type": "code",
   "execution_count": 32,
   "metadata": {},
   "outputs": [],
   "source": [
    "drop_list = ['PRIMEUNIT', 'AUCGUART', 'Model', 'Trim', \n",
    "             'SubModel', 'WheelType', 'BYRNO', 'VNZIP1']\n",
    "\n",
    "combine.PurchDate = pd.to_datetime(combine.PurchDate, format=r'%m/%d/%Y').astype(np.int64)//10**15\n",
    "    \n",
    "# add engine feature\n",
    "combine['Engine'] = combine.SubModel.str.extract('\\s+(\\d+.\\d+)L', expand = True).astype('float64')\n",
    "\n",
    "# now we can start the drop list\n",
    "combine = combine.drop(drop_list, axis=1)\n",
    "\n",
    "num_features = combine.select_dtypes(include = ['float64', 'int64', 'bool']).columns.values\n",
    "cat_features = combine.select_dtypes(include = ['object']).columns.values"
   ]
  },
  {
   "cell_type": "code",
   "execution_count": 33,
   "metadata": {},
   "outputs": [
    {
     "data": {
      "text/plain": [
       "array(['Auction', 'Make', 'Color', 'Transmission', 'Nationality', 'Size',\n",
       "       'TopThreeAmericanName', 'VNST'], dtype=object)"
      ]
     },
     "execution_count": 33,
     "metadata": {},
     "output_type": "execute_result"
    }
   ],
   "source": [
    "cat_features"
   ]
  },
  {
   "cell_type": "code",
   "execution_count": 34,
   "metadata": {},
   "outputs": [
    {
     "data": {
      "text/plain": [
       "['Color', 'Transmission', 'Nationality', 'Size', 'TopThreeAmericanName']"
      ]
     },
     "execution_count": 34,
     "metadata": {},
     "output_type": "execute_result"
    }
   ],
   "source": [
    "cat_na_features = []\n",
    "for column in cat_features:\n",
    "    if combine[column].isnull().sum()>0:\n",
    "        cat_na_features.append(column)\n",
    "cat_na_features"
   ]
  },
  {
   "cell_type": "code",
   "execution_count": 35,
   "metadata": {},
   "outputs": [],
   "source": [
    "for column in cat_features:\n",
    "    temp = pd.get_dummies(pd.Series(combine[column]))\n",
    "    combine = pd.concat([combine,temp],axis=1)\n",
    "    combine = combine.drop([column],axis=1)"
   ]
  },
  {
   "cell_type": "code",
   "execution_count": 36,
   "metadata": {},
   "outputs": [
    {
     "name": "stdout",
     "output_type": "stream",
     "text": [
      "The train shape is: (72983, 131)\n",
      "The test shape is: (48707, 131)\n"
     ]
    }
   ],
   "source": [
    "df_train=combine[:df_train.shape[0]]\n",
    "df_test=combine[df_train.shape[0]:]\n",
    "\n",
    "train = np.array(df_train)\n",
    "test = np.array(df_test)\n",
    "\n",
    "print (\"The train shape is:\",train.shape)\n",
    "print ('The test shape is:',test.shape)"
   ]
  },
  {
   "cell_type": "code",
   "execution_count": null,
   "metadata": {},
   "outputs": [
    {
     "name": "stdout",
     "output_type": "stream",
     "text": [
      "[0]\ttrain-gini:0.318951\tvalid-gini:0.311681\n",
      "Multiple eval metrics have been passed: 'valid-gini' will be used for early stopping.\n",
      "\n",
      "Will train until valid-gini hasn't improved in 100 rounds.\n",
      "[50]\ttrain-gini:0.517047\tvalid-gini:0.514266\n",
      "[100]\ttrain-gini:0.527737\tvalid-gini:0.519109\n"
     ]
    }
   ],
   "source": [
    "xgb_preds = []\n",
    "\n",
    "\n",
    "K = 5\n",
    "kf = KFold(n_splits = K, random_state = 3228,shuffle=True)\n",
    "\n",
    "\n",
    "for train_index, test_index in kf.split(train):\n",
    "    train_X, valid_X = train[train_index], train[test_index]\n",
    "    train_y, valid_y = target_train[train_index], target_train[test_index]\n",
    "\n",
    "    # params configuration also from the1owl's kernel\n",
    "    # https://www.kaggle.com/the1owl/forza-baseline\n",
    "    xgb_params = {'eta': 0.02, 'max_depth': 5, 'subsample': 0.9, 'colsample_bytree': 0.9, \n",
    "                  'objective': 'binary:logistic', 'eval_metric': 'auc', 'seed': 99, 'silent': True}\n",
    "\n",
    "    d_train = xgb.DMatrix(train_X, train_y)\n",
    "    d_valid = xgb.DMatrix(valid_X, valid_y)\n",
    "    d_test = xgb.DMatrix(test)\n",
    "    \n",
    "    watchlist = [(d_train, 'train'), (d_valid, 'valid')]\n",
    "    model = xgb.train(xgb_params, d_train, 5000,  watchlist, feval=gini_xgb, maximize=True, verbose_eval=50, early_stopping_rounds=100)\n",
    "                        \n",
    "    xgb_pred = model.predict(d_test)\n",
    "    xgb_preds.append(list(xgb_pred))\n",
    "    \n",
    "    \n",
    "    \n",
    "preds=[]\n",
    "for i in range(len(xgb_preds[0])):\n",
    "    sum=0\n",
    "    for j in range(K):\n",
    "        sum+=xgb_preds[j][i]\n",
    "    preds.append(sum / K)\n",
    "\n",
    "output = pd.DataFrame({'RefId': id_test, 'IsBadBuy': preds})\n",
    "output.to_csv(\"{}-foldCV_avg_sub.csv\".format(K), index=False)"
   ]
  },
  {
   "cell_type": "code",
   "execution_count": null,
   "metadata": {
    "collapsed": true
   },
   "outputs": [],
   "source": []
  }
 ],
 "metadata": {
  "kernelspec": {
   "display_name": "Python 3",
   "language": "python",
   "name": "python3"
  },
  "language_info": {
   "codemirror_mode": {
    "name": "ipython",
    "version": 3
   },
   "file_extension": ".py",
   "mimetype": "text/x-python",
   "name": "python",
   "nbconvert_exporter": "python",
   "pygments_lexer": "ipython3",
   "version": "3.5.4"
  }
 },
 "nbformat": 4,
 "nbformat_minor": 1
}
